#importing

import tensorflow as tf

#load dataset
mnist = tf.keras.datasets.mnist

(x_train , y_train) ,(x_test, y_test) = mnist.load_data()

#check
print(x_train[0])

#training and test data split
x_train = tf.keras.utils.normalize(x_train, axis = 1)
x_test = tf.keras.utils.normalize(x_test, axis = 1)

#model setup and training
model = tf.keras.models.Sequential()
model.add(tf.keras.layers.Flatten())
model.add(tf.keras.layers.Dense(128, activation = tf.nn.relu ))
model.add(tf.keras.layers.Dense(128, activation = tf.nn.relu ))
model.add(tf.keras.layers.Dense(10, activation = tf.nn.softmax))


model.compile(optimizer = 'adam',
              loss = 'sparse_categorical_crossentropy',
              metrics = ['accuracy'])

model.fit(x_train, y_train, epochs=5)

#validation of model
val_loss, val_acc = model.evaluate(x_test, y_test)
print(val_loss, val_acc)

